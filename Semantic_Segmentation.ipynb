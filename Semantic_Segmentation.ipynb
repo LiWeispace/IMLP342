{
  "nbformat": 4,
  "nbformat_minor": 0,
  "metadata": {
    "colab": {
      "private_outputs": true,
      "provenance": [],
      "mount_file_id": "1ymjVrq4DqPISJJou094h1CZ6IKUF8Ink",
      "authorship_tag": "ABX9TyPxhhvXMdGBYoqW0Q6jGXIq",
      "include_colab_link": true
    },
    "kernelspec": {
      "name": "python3",
      "display_name": "Python 3"
    },
    "language_info": {
      "name": "python"
    }
  },
  "cells": [
    {
      "cell_type": "markdown",
      "metadata": {
        "id": "view-in-github",
        "colab_type": "text"
      },
      "source": [
        "<a href=\"https://colab.research.google.com/github/LiWeispace/IMLP342/blob/main/Semantic_Segmentation.ipynb\" target=\"_parent\"><img src=\"https://colab.research.google.com/assets/colab-badge.svg\" alt=\"Open In Colab\"/></a>"
      ]
    },
    {
      "cell_type": "code",
      "execution_count": null,
      "metadata": {
        "id": "f9SYk60fkZOw"
      },
      "outputs": [],
      "source": [
        "!git clone https://github.com/wkentaro/pytorch-fcn.git"
      ]
    },
    {
      "cell_type": "code",
      "source": [
        "import torch\n",
        "import torchvision.models.segmentation as segmentation_models\n",
        "\n",
        "model = segmentation_models.deeplabv3_resnet101(pretrained=True)\n",
        "model.eval()"
      ],
      "metadata": {
        "id": "v4yZGLXBkjUp"
      },
      "execution_count": null,
      "outputs": []
    },
    {
      "cell_type": "code",
      "source": [
        "from PIL import Image\n",
        "from torchvision import transforms\n",
        "\n",
        "input_image = Image.open('/content/drive/MyDrive/Colab_Deep_learning/AI_DL/people.jpg')\n",
        "preprocess = transforms.Compose([\n",
        "    transforms.Resize((256, 256)),\n",
        "    transforms.ToTensor(),\n",
        "    transforms.Normalize(mean=[0.485, 0.456, 0.456], std=[0.229, 0.224, 0.225]),\n",
        "])\n",
        "input_tensor = preprocess(input_image).unsqueeze(0)\n",
        "\n",
        "with torch.no_grad():\n",
        "  output = model(input_tensor)\n",
        "  print(output['out'].size())"
      ],
      "metadata": {
        "id": "kXpJJCjgk2lx"
      },
      "execution_count": null,
      "outputs": []
    },
    {
      "cell_type": "code",
      "source": [
        "import numpy as np\n",
        "import matplotlib.pyplot as plt\n",
        "from PIL import Image\n",
        "\n",
        "predictions = output['out'].squeeze().argmax(dim=0).detach().cpu().numpy()\n",
        "\n",
        "predicted_image = Image.fromarray(predictions.astype(np.uint8))\n",
        "\n",
        "predicted_imagee_resized = predicted_image.resize(input_image.size, Image.NEAREST)\n",
        "\n",
        "plt.figure(figsize=(12, 6))\n",
        "plt.subplot(1, 2, 1)\n",
        "plt.imshow(input_image)\n",
        "plt.title(\"Original Image\")\n",
        "\n",
        "plt.subplot(1, 2, 2)\n",
        "plt.imshow(predicted_imagee_resized)\n",
        "plt.title(\"Predicted Segmentation\")\n",
        "plt.show()"
      ],
      "metadata": {
        "id": "6Yvqrj1zmOEA"
      },
      "execution_count": null,
      "outputs": []
    }
  ]
}