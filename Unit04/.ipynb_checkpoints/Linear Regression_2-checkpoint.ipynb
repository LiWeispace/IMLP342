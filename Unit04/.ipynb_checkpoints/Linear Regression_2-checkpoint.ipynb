{
 "cells": [
  {
   "cell_type": "markdown",
   "metadata": {},
   "source": [
    "# Linear Regression\n"
   ]
  },
  {
   "cell_type": "code",
   "execution_count": 2,
   "metadata": {},
   "outputs": [],
   "source": [
    "%matplotlib inline\n",
    "import numpy as np\n",
    "import matplotlib.pyplot as plt"
   ]
  },
  {
   "cell_type": "markdown",
   "metadata": {},
   "source": [
    "## 2.  線性迴歸訓練資料、測試資料\n",
    "\n",
    "80%  training data, 20%  testing data ==> 先利用此來驗證各種模型(演算法)的好壞及調好到最佳參數\n",
    "之後可以利用由這個80%的訓練資料所得的模型後,拿100%資料re-train模型以得到最佳模型 (此model會更佳fit data)\n"
   ]
  },
  {
   "cell_type": "code",
   "execution_count": 3,
   "metadata": {},
   "outputs": [],
   "source": [
    "from sklearn.model_selection import train_test_split\n",
    "from sklearn.linear_model import LinearRegression"
   ]
  },
  {
   "cell_type": "code",
   "execution_count": 5,
   "metadata": {},
   "outputs": [
    {
     "name": "stdout",
     "output_type": "stream",
     "text": [
      "[4.08163265 1.73469388 1.83673469 0.         2.75510204 3.36734694\n",
      " 3.67346939 4.28571429 1.02040816 0.30612245 4.18367347 1.32653061\n",
      " 4.69387755 0.20408163 3.87755102 3.97959184 0.51020408 4.3877551\n",
      " 3.7755102  3.06122449 0.6122449  2.95918367 1.63265306 1.93877551\n",
      " 5.         4.48979592 2.14285714 3.26530612 3.46938776 0.71428571\n",
      " 2.24489796 1.12244898 2.04081633 0.91836735 4.89795918 2.85714286\n",
      " 3.16326531 1.53061224 2.65306122 3.57142857]\n"
     ]
    }
   ],
   "source": [
    "x = np.linspace(0, 5, 50)\n",
    "y = 1.2 * x + 0.8 + 0.6 * np.random.randn(50)\n",
    "x_train, x_test, y_train, y_test= train_test_split(x, y, test_size = 0.2, random_state = 20)  #random_state固定打亂順序\n",
    "print(x_train)"
   ]
  },
  {
   "cell_type": "code",
   "execution_count": 6,
   "metadata": {},
   "outputs": [
    {
     "data": {
      "text/plain": [
       "array([1.05613198, 0.13483877, 0.97052121, 1.79602264, 1.38017066,\n",
       "       1.08857641, 1.07138043, 1.94087915, 2.9522023 , 1.23408822,\n",
       "       1.29361955, 1.47126178, 0.94762998, 3.1305003 , 3.11030077,\n",
       "       3.50217883, 2.7182492 , 2.57172734, 2.3332399 , 4.05738648,\n",
       "       3.795016  , 4.10349551, 3.31735389, 3.67088111, 3.88020657,\n",
       "       4.31018244, 4.4023826 , 4.75746799, 4.25307142, 4.10436273,\n",
       "       4.5263665 , 4.53531027, 3.13408831, 4.84686945, 5.87532888,\n",
       "       4.42696991, 5.39249009, 6.1804252 , 5.56851528, 5.35025587,\n",
       "       5.6516068 , 5.82920125, 5.88416119, 6.03332406, 6.45191013,\n",
       "       6.3004006 , 5.54118623, 6.68634152, 6.50346705, 6.46999401])"
      ]
     },
     "execution_count": 6,
     "metadata": {},
     "output_type": "execute_result"
    }
   ],
   "source": [
    "y"
   ]
  },
  {
   "cell_type": "code",
   "execution_count": 7,
   "metadata": {},
   "outputs": [
    {
     "data": {
      "text/plain": [
       "<matplotlib.collections.PathCollection at 0x25cdb63a850>"
      ]
     },
     "execution_count": 7,
     "metadata": {},
     "output_type": "execute_result"
    },
    {
     "data": {
      "image/png": "[encoded data removed]",
      "text/plain": [
       "<Figure size 432x288 with 1 Axes>"
      ]
     },
     "metadata": {
      "needs_background": "light"
     },
     "output_type": "display_data"
    }
   ],
   "source": [
    "plt.scatter(x_train, y_train)"
   ]
  },
  {
   "cell_type": "markdown",
   "metadata": {},
   "source": [
    "#### 用訓練資料來 fit 函數\n",
    "\n",
    "記得現在我們只用 80% 的資料去訓練。"
   ]
  },
  {
   "cell_type": "code",
   "execution_count": 10,
   "metadata": {},
   "outputs": [
    {
     "name": "stdout",
     "output_type": "stream",
     "text": [
      "Coefficients: [1.17052879]\n",
      "Interception: 0.8775238241376226\n"
     ]
    }
   ],
   "source": [
    "regr = LinearRegression()\n",
    "X_train = x_train.reshape(-1, 1)\n",
    "regr.fit(X_train, y_train)\n",
    "print(f\"Coefficients: {regr.coef_}\")\n",
    "print(f\"Interception: {regr.intercept_}\")"
   ]
  },
  {
   "cell_type": "code",
   "execution_count": 11,
   "metadata": {},
   "outputs": [
    {
     "data": {
      "text/plain": [
       "array([5.65519236, 2.90803295, 3.02747467, 0.87752382, 4.10245009,\n",
       "       4.81910037, 5.17742551, 5.89407579, 2.07194096, 1.23584896,\n",
       "       5.77463407, 2.4302661 , 6.37184264, 1.11640725, 5.41630893,\n",
       "       5.53575065, 1.47473239, 6.0135175 , 5.29686722, 4.46077523,\n",
       "       1.5941741 , 4.34133351, 2.78859124, 3.14691638, 6.73016778,\n",
       "       6.13295921, 3.38579981, 4.69965865, 4.93854208, 1.71361582,\n",
       "       3.50524152, 2.19138267, 3.26635809, 1.95249924, 6.61072607,\n",
       "       4.2218918 , 4.58021694, 2.66914953, 3.98300837, 5.05798379])"
      ]
     },
     "execution_count": 11,
     "metadata": {},
     "output_type": "execute_result"
    }
   ],
   "source": [
    "Y_train = regr.predict(X_train)\n",
    "Y_train"
   ]
  },
  {
   "cell_type": "code",
   "execution_count": 14,
   "metadata": {},
   "outputs": [
    {
     "name": "stdout",
     "output_type": "stream",
     "text": [
      "0.30199\n"
     ]
    }
   ],
   "source": [
    "MSE = np.sum((Y_train - y_train) ** 2) / len(y_train)\n",
    "print(f\"{MSE:.5f}\")"
   ]
  },
  {
   "cell_type": "code",
   "execution_count": 15,
   "metadata": {},
   "outputs": [
    {
     "data": {
      "text/plain": [
       "[<matplotlib.lines.Line2D at 0x25cdb765400>]"
      ]
     },
     "execution_count": 15,
     "metadata": {},
     "output_type": "execute_result"
    },
    {
     "data": {
      "image/png": "[encoded data removed]",
      "text/plain": [
       "<Figure size 432x288 with 1 Axes>"
      ]
     },
     "metadata": {
      "needs_background": "light"
     },
     "output_type": "display_data"
    }
   ],
   "source": [
    "plt.scatter(x_train, y_train)\n",
    "plt.plot(x_train, Y_train, \"r\")"
   ]
  },
  {
   "cell_type": "markdown",
   "metadata": {},
   "source": [
    "#### test with test data"
   ]
  },
  {
   "cell_type": "code",
   "execution_count": 18,
   "metadata": {},
   "outputs": [
    {
     "name": "stdout",
     "output_type": "stream",
     "text": [
      "[2.31082438 2.54970781 1.35529068 1.83305753 6.25240093 0.99696554\n",
      " 3.86356666 3.74412495 6.49128435 3.62468323]\n"
     ]
    }
   ],
   "source": [
    "X_test = x_test.reshape(-1, 1)\n",
    "Y_test = regr.predict(X_test)\n",
    "\n",
    "print(Y_test)"
   ]
  },
  {
   "cell_type": "markdown",
   "metadata": {},
   "source": [
    "$$\\widehat{y}=xw+b=w_{1}x_{1}+b$$"
   ]
  },
  {
   "cell_type": "code",
   "execution_count": 19,
   "metadata": {},
   "outputs": [
    {
     "data": {
      "text/plain": [
       "array([[2.31082438],\n",
       "       [2.54970781],\n",
       "       [1.35529068],\n",
       "       [1.83305753],\n",
       "       [6.25240093],\n",
       "       [0.99696554],\n",
       "       [3.86356666],\n",
       "       [3.74412495],\n",
       "       [6.49128435],\n",
       "       [3.62468323]])"
      ]
     },
     "execution_count": 19,
     "metadata": {},
     "output_type": "execute_result"
    }
   ],
   "source": [
    "#Y=WX+b\n",
    "W = regr.coef_\n",
    "b = regr.intercept_\n",
    "W * X_test + b"
   ]
  },
  {
   "cell_type": "code",
   "execution_count": 20,
   "metadata": {},
   "outputs": [
    {
     "name": "stdout",
     "output_type": "stream",
     "text": [
      "0.44294\n"
     ]
    }
   ],
   "source": [
    "MSE = np.sum((Y_test - y_test) ** 2) / len(y_test)\n",
    "print(f\"{MSE:.5f}\")"
   ]
  },
  {
   "cell_type": "code",
   "execution_count": 24,
   "metadata": {},
   "outputs": [
    {
     "data": {
      "text/plain": [
       "<matplotlib.legend.Legend at 0x25cdcf0c190>"
      ]
     },
     "execution_count": 24,
     "metadata": {},
     "output_type": "execute_result"
    },
    {
     "data": {
      "image/png": "[encoded data removed]",
      "text/plain": [
       "<Figure size 432x288 with 1 Axes>"
      ]
     },
     "metadata": {
      "needs_background": "light"
     },
     "output_type": "display_data"
    }
   ],
   "source": [
    "title = \"f(x) = 1.2x+0.8\" + \", MSE:\" + str(round(MSE, 3))\n",
    "plt.title(title)\n",
    "plt.xlabel(\"x\")\n",
    "plt.ylabel(\"y\")\n",
    "#plt.gris(True)\n",
    "plt.scatter(x_test, y_test, alpha = 0.7, label = \"Ground True\")\n",
    "plt.scatter(x_test, Y_test, c = \"r\", alpha = 0.7, label = \"Predict\")\n",
    "plt.legend()"
   ]
  }
 ],
 "metadata": {
  "anaconda-cloud": {},
  "kernelspec": {
   "display_name": "Python 3",
   "language": "python",
   "name": "python3"
  },
  "language_info": {
   "codemirror_mode": {
    "name": "ipython",
    "version": 3
   },
   "file_extension": ".py",
   "mimetype": "text/x-python",
   "name": "python",
   "nbconvert_exporter": "python",
   "pygments_lexer": "ipython3",
   "version": "3.8.8"
  }
 },
 "nbformat": 4,
 "nbformat_minor": 1
}
