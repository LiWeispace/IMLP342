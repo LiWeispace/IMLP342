{
 "cells": [
  {
   "cell_type": "markdown",
   "metadata": {},
   "source": [
    "# Linear Regression\n"
   ]
  },
  {
   "cell_type": "code",
   "execution_count": 3,
   "metadata": {},
   "outputs": [],
   "source": [
    "%matplotlib inline\n",
    "import numpy as np\n",
    "import matplotlib.pyplot as plt"
   ]
  },
  {
   "cell_type": "markdown",
   "metadata": {},
   "source": [
    "## 2.  線性迴歸訓練資料、測試資料\n",
    "\n",
    "80%  training data, 20%  testing data ==> 先利用此來驗證各種模型(演算法)的好壞及調好到最佳參數\n",
    "之後可以利用由這個80%的訓練資料所得的模型後,拿100%資料re-train模型以得到最佳模型 (此model會更佳fit data)\n"
   ]
  },
  {
   "cell_type": "code",
   "execution_count": 4,
   "metadata": {},
   "outputs": [],
   "source": [
    "from sklearn.model_selection import train_test_split\n",
    "from sklearn.linear_model import LinearRegression"
   ]
  },
  {
   "cell_type": "code",
   "execution_count": 6,
   "metadata": {},
   "outputs": [
    {
     "name": "stdout",
     "output_type": "stream",
     "text": [
      "[4.08163265 1.73469388 1.83673469 0.         2.75510204 3.36734694\n",
      " 3.67346939 4.28571429 1.02040816 0.30612245 4.18367347 1.32653061\n",
      " 4.69387755 0.20408163 3.87755102 3.97959184 0.51020408 4.3877551\n",
      " 3.7755102  3.06122449 0.6122449  2.95918367 1.63265306 1.93877551\n",
      " 5.         4.48979592 2.14285714 3.26530612 3.46938776 0.71428571\n",
      " 2.24489796 1.12244898 2.04081633 0.91836735 4.89795918 2.85714286\n",
      " 3.16326531 1.53061224 2.65306122 3.57142857]\n"
     ]
    }
   ],
   "source": [
    "x = np.linspace(0, 5, 50)\n",
    "y = 1.2 * x + 0.8 + 0.6 * np.random.randn(50)\n",
    "x_train, x_test, y_train, y_test= train_test_split(x, y, test_size = 0.2, random_state = 20)  #random_state固定打亂順序\n",
    "print(x_train)"
   ]
  },
  {
   "cell_type": "code",
   "execution_count": 7,
   "metadata": {},
   "outputs": [
    {
     "data": {
      "text/plain": [
       "array([0.34045809, 0.93597098, 2.00104843, 0.87750991, 1.18629095,\n",
       "       1.15204306, 1.49665267, 1.88096117, 2.56563149, 2.37671171,\n",
       "       2.62269426, 1.27707248, 2.83912902, 2.66545134, 3.11017808,\n",
       "       2.48933397, 2.80487834, 2.90729301, 2.11377355, 3.25398646,\n",
       "       3.91958056, 3.27491307, 3.1840818 , 3.95923559, 3.81510632,\n",
       "       4.02979438, 3.34983634, 3.26931288, 4.82378902, 4.32387433,\n",
       "       5.42625139, 5.8290185 , 6.02544616, 5.65125735, 4.69578215,\n",
       "       5.31364858, 4.35939748, 5.18104399, 5.79101251, 5.84001143,\n",
       "       5.34484481, 6.36649377, 6.56400471, 5.1224141 , 6.86082945,\n",
       "       6.57626223, 5.55476967, 7.36054706, 6.86917197, 5.67919857])"
      ]
     },
     "execution_count": 7,
     "metadata": {},
     "output_type": "execute_result"
    }
   ],
   "source": [
    "y"
   ]
  },
  {
   "cell_type": "code",
   "execution_count": 8,
   "metadata": {},
   "outputs": [
    {
     "data": {
      "text/plain": [
       "<matplotlib.collections.PathCollection at 0x147d5f3a790>"
      ]
     },
     "execution_count": 8,
     "metadata": {},
     "output_type": "execute_result"
    },
    {
     "data": {
      "image/png": "[encoded data removed]",
      "text/plain": [
       "<Figure size 432x288 with 1 Axes>"
      ]
     },
     "metadata": {
      "needs_background": "light"
     },
     "output_type": "display_data"
    }
   ],
   "source": [
    "plt.scatter(x_train, y_train)"
   ]
  },
  {
   "cell_type": "markdown",
   "metadata": {},
   "source": [
    "#### 用訓練資料來 fit 函數\n",
    "\n",
    "記得現在我們只用 80% 的資料去訓練。"
   ]
  },
  {
   "cell_type": "code",
   "execution_count": 9,
   "metadata": {},
   "outputs": [
    {
     "name": "stdout",
     "output_type": "stream",
     "text": [
      "Coefficients: [1.18309193]\n",
      "Interception: 0.8875066557551081\n"
     ]
    }
   ],
   "source": [
    "regr = LinearRegression()\n",
    "X_train = x_train.reshape(-1, 1)\n",
    "regr.fit(X_train, y_train)\n",
    "print(f\"Coefficients: {regr.coef_}\")\n",
    "print(f\"Interception: {regr.intercept_}\")"
   ]
  },
  {
   "cell_type": "code",
   "execution_count": 10,
   "metadata": {},
   "outputs": [
    {
     "data": {
      "text/plain": [
       "array([5.7164533 , 2.93980898, 3.06053265, 0.88750666, 4.14704564,\n",
       "       4.87138764, 5.23355864, 5.95790063, 2.09474332, 1.24967765,\n",
       "       5.83717697, 2.45691432, 6.4407953 , 1.12895399, 5.47500597,\n",
       "       5.59572964, 1.49112499, 6.0786243 , 5.3542823 , 4.50921664,\n",
       "       1.61184865, 4.38849297, 2.81908531, 3.18125631, 6.8029663 ,\n",
       "       6.19934797, 3.42270364, 4.75066397, 4.9921113 , 1.73257232,\n",
       "       3.54342731, 2.21546698, 3.30197998, 1.97401965, 6.68224263,\n",
       "       4.26776931, 4.62994031, 2.69836165, 4.02632198, 5.11283497])"
      ]
     },
     "execution_count": 10,
     "metadata": {},
     "output_type": "execute_result"
    }
   ],
   "source": [
    "Y_train = regr.predict(X_train)\n",
    "Y_train"
   ]
  },
  {
   "cell_type": "code",
   "execution_count": 11,
   "metadata": {},
   "outputs": [
    {
     "name": "stdout",
     "output_type": "stream",
     "text": [
      "0.38870\n"
     ]
    }
   ],
   "source": [
    "MSE = np.sum((Y_train - y_train) ** 2) / len(y_train)\n",
    "print(f\"{MSE:.5f}\")"
   ]
  },
  {
   "cell_type": "code",
   "execution_count": 12,
   "metadata": {},
   "outputs": [
    {
     "data": {
      "text/plain": [
       "[<matplotlib.lines.Line2D at 0x147d600dd30>]"
      ]
     },
     "execution_count": 12,
     "metadata": {},
     "output_type": "execute_result"
    },
    {
     "data": {
      "image/png": "[encoded data removed]",
      "text/plain": [
       "<Figure size 432x288 with 1 Axes>"
      ]
     },
     "metadata": {
      "needs_background": "light"
     },
     "output_type": "display_data"
    }
   ],
   "source": [
    "plt.scatter(x_train, y_train)\n",
    "plt.plot(x_train, Y_train, \"r\")"
   ]
  },
  {
   "cell_type": "markdown",
   "metadata": {},
   "source": [
    "#### test with test data"
   ]
  },
  {
   "cell_type": "code",
   "execution_count": 13,
   "metadata": {},
   "outputs": [
    {
     "name": "stdout",
     "output_type": "stream",
     "text": [
      "[2.33619065 2.57763798 1.37040132 1.85329598 6.32007163 1.00823032\n",
      " 3.90559831 3.78487464 6.56151896 3.66415098]\n"
     ]
    }
   ],
   "source": [
    "X_test = x_test.reshape(-1, 1)\n",
    "Y_test = regr.predict(X_test)\n",
    "\n",
    "print(Y_test)"
   ]
  },
  {
   "cell_type": "markdown",
   "metadata": {},
   "source": [
    "$$\\widehat{y}=xw+b=w_{1}x_{1}+b$$"
   ]
  },
  {
   "cell_type": "code",
   "execution_count": 14,
   "metadata": {},
   "outputs": [
    {
     "data": {
      "text/plain": [
       "array([[2.33619065],\n",
       "       [2.57763798],\n",
       "       [1.37040132],\n",
       "       [1.85329598],\n",
       "       [6.32007163],\n",
       "       [1.00823032],\n",
       "       [3.90559831],\n",
       "       [3.78487464],\n",
       "       [6.56151896],\n",
       "       [3.66415098]])"
      ]
     },
     "execution_count": 14,
     "metadata": {},
     "output_type": "execute_result"
    }
   ],
   "source": [
    "#Y=WX+b\n",
    "W = regr.coef_\n",
    "b = regr.intercept_\n",
    "W * X_test + b"
   ]
  },
  {
   "cell_type": "code",
   "execution_count": 16,
   "metadata": {},
   "outputs": [
    {
     "name": "stdout",
     "output_type": "stream",
     "text": [
      "[1.18309193]\n",
      "0.8875066557551081\n"
     ]
    }
   ],
   "source": [
    "print(W)\n",
    "print(b)"
   ]
  },
  {
   "cell_type": "code",
   "execution_count": 20,
   "metadata": {},
   "outputs": [
    {
     "name": "stdout",
     "output_type": "stream",
     "text": [
      "0.44294\n"
     ]
    }
   ],
   "source": [
    "MSE = np.sum((Y_test - y_test) ** 2) / len(y_test)\n",
    "print(f\"{MSE:.5f}\")"
   ]
  },
  {
   "cell_type": "code",
   "execution_count": 17,
   "metadata": {},
   "outputs": [
    {
     "data": {
      "text/plain": [
       "<matplotlib.legend.Legend at 0x147d76f1610>"
      ]
     },
     "execution_count": 17,
     "metadata": {},
     "output_type": "execute_result"
    },
    {
     "data": {
      "image/png": "[encoded data removed]",
      "text/plain": [
       "<Figure size 432x288 with 1 Axes>"
      ]
     },
     "metadata": {
      "needs_background": "light"
     },
     "output_type": "display_data"
    }
   ],
   "source": [
    "title = \"f(x) = 1.2x+0.8\" + \", MSE:\" + str(round(MSE, 3))\n",
    "plt.title(title)\n",
    "plt.xlabel(\"x\")\n",
    "plt.ylabel(\"y\")\n",
    "#plt.gris(True)\n",
    "plt.scatter(x_test, y_test, alpha = 0.7, label = \"Ground True\")\n",
    "plt.scatter(x_test, Y_test, c = \"r\", alpha = 0.7, label = \"Predict\")\n",
    "plt.legend()"
   ]
  }
 ],
 "metadata": {
  "anaconda-cloud": {},
  "kernelspec": {
   "display_name": "Python 3",
   "language": "python",
   "name": "python3"
  },
  "language_info": {
   "codemirror_mode": {
    "name": "ipython",
    "version": 3
   },
   "file_extension": ".py",
   "mimetype": "text/x-python",
   "name": "python",
   "nbconvert_exporter": "python",
   "pygments_lexer": "ipython3",
   "version": "3.8.8"
  }
 },
 "nbformat": 4,
 "nbformat_minor": 1
}
