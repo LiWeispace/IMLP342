{
 "cells": [
  {
   "cell_type": "markdown",
   "metadata": {},
   "source": [
    "\n",
    "# 評估指標實作篇\n",
    "建立一個機器學習模型後，需要計算評估指標分數，<br>\n",
    "從指標中獲得反饋看模型表現的優劣，再繼續改進模型，直到達到理想的指標分數。\n",
    "\n"
   ]
  },
  {
   "cell_type": "markdown",
   "metadata": {},
   "source": [
    "<img  src=\"images/MAE.jpg\" align='left'/><br><br><br><br><br>\n",
    "<img  src=\"images/MSE.jpg\" align='left'/><br><br><br><br><br>\n",
    "<img  src=\"images/RMSE.jpg\" align='left'/><br><br><br><br><br>\n",
    "\n",
    "ANS<br>\n",
    "MAE =  1.4916666666666665<br>\n",
    "MSE =  2.72875<br>\n",
    "RMSE =  1.651892853668179<br>\n"
   ]
  },
  {
   "cell_type": "code",
   "execution_count": 2,
   "metadata": {},
   "outputs": [],
   "source": [
    "target = [1.5, 2.1, 3.3, -4.7, -2.3, 0.75]\n",
    "prediction = [0.5, 1.5, 2.1, -2.2, 0.1, -0.5]"
   ]
  },
  {
   "cell_type": "code",
   "execution_count": 17,
   "metadata": {},
   "outputs": [
    {
     "name": "stdout",
     "output_type": "stream",
     "text": [
      "Error :[1.0, 0.6000000000000001, 1.1999999999999997, -2.5, -2.4, 1.25]\n",
      "absError :[1.0, 0.6000000000000001, 1.1999999999999997, 2.5, 2.4, 1.25]\n",
      "squaredError :[1.0, 0.3600000000000001, 1.4399999999999993, 6.25, 5.76, 1.5625]\n",
      "Absolute Value of Error:[1.0, 0.6000000000000001, 1.1999999999999997, 2.5, 2.4, 1.25]\n",
      "MAE = 1.492\n",
      "Square Error: [1.0, 0.3600000000000001, 1.4399999999999993, 6.25, 5.76, 1.5625]\n",
      "MSE = 2.72875\n",
      "RMSE = 1.65189\n",
      "RMSE = 1.65189\n"
     ]
    }
   ],
   "source": [
    "import math\n",
    "error = []\n",
    "absError = []\n",
    "squaredError = []\n",
    "for i in range(len(target)):\n",
    "    value = target[i] - prediction[i]\n",
    "    error.append(value)\n",
    "    absError.append(abs(value))\n",
    "    squaredError.append(value ** 2)\n",
    "print(f\"Error :{error}\")\n",
    "print(f\"absError :{absError}\")\n",
    "print(f\"squaredError :{squaredError}\")\n",
    "\n",
    "#平均絕對誤差MAE\n",
    "print(f\"Absolute Value of Error:{absError}\")\n",
    "MAE = sum(absError) / len(target)\n",
    "print(f\"MAE = {MAE:.3f}\")\n",
    "\n",
    "#均方誤差MSE\n",
    "print(f\"Square Error: {squaredError}\")\n",
    "MSE = sum(squaredError) / len(target)\n",
    "print(f\"MSE = {MSE:.5f}\")\n",
    "\n",
    "#均方根誤差RMSE\n",
    "RMSE = MSE ** 0.5\n",
    "print(f\"RMSE = {RMSE:.5f}\")\n",
    "\n",
    "#方法2\n",
    "RMSE_1 = math.sqrt(MSE)\n",
    "print(f\"RMSE = {RMSE_1:.5f}\")\n",
    " \n",
    "\n"
   ]
  },
  {
   "cell_type": "markdown",
   "metadata": {},
   "source": [
    "#### other\n",
    "平均值 變異數 標準差"
   ]
  },
  {
   "cell_type": "code",
   "execution_count": 20,
   "metadata": {},
   "outputs": [
    {
     "name": "stdout",
     "output_type": "stream",
     "text": [
      "Target Variance =7.57035\n",
      "Target Standard Deviation = 2.75143\n"
     ]
    }
   ],
   "source": [
    "import math\n",
    "targetDeviation = []\n",
    "targetMean = sum(target) / len(target)\n",
    "for val in target:\n",
    "    targetDeviation.append((val - targetMean) ** 2)\n",
    "\n",
    "Target_Variance = sum(targetDeviation) / len(targetDeviation)    \n",
    "print(f\"Target Variance ={Target_Variance:.5f}\")\n",
    "Target_Standard_Deviation = math.sqrt(sum(targetDeviation) / len(targetDeviation))\n",
    "print(f\"Target Standard Deviation = {Target_Standard_Deviation:.5f}\")"
   ]
  },
  {
   "cell_type": "code",
   "execution_count": 23,
   "metadata": {},
   "outputs": [
    {
     "name": "stdout",
     "output_type": "stream",
     "text": [
      "Target Variance =  7.570347222222222\n",
      "Target Standard Deviation =  2.7514263977475797\n"
     ]
    }
   ],
   "source": [
    "import math\n",
    "targetDeviation = []\n",
    "targetMean = sum(target) / len(target)#target平均值\n",
    "for val in target:\n",
    "    targetDeviation.append((val - targetMean) * (val - targetMean))\n",
    "print(\"Target Variance = \", sum(targetDeviation) / len(targetDeviation))#方差\n",
    "print(\"Target Standard Deviation = \", math.sqrt(sum(targetDeviation) / len(targetDeviation)))#標準差"
   ]
  },
  {
   "cell_type": "markdown",
   "metadata": {},
   "source": [
    "# sklearn\n",
    "from sklearn import metrics\n",
    "\n",
    ">Mean Absolute Error (MAE)代表平均誤差，公式為所有實際值及預測值相減的絕對值平均。\n",
    "\n",
    ">Mean Squared Error (MSE)比起MSE可以拉開誤差差距，算是蠻常用的指標，公式所有實際值及預測值相減的平方的平均\n",
    "\n",
    ">Root Mean Squared Error (RMSE)代表MSE的平方根。比起MSE更為常用，因為更容易解釋y。\n"
   ]
  },
  {
   "cell_type": "code",
   "execution_count": 2,
   "metadata": {},
   "outputs": [],
   "source": [
    "y_test = [1.5, 2.1, 3.3, -4.7, -2.3, 0.75]\n",
    "predictions = [0.5, 1.5, 2.1, -2.2, 0.1, -0.5]"
   ]
  },
  {
   "cell_type": "code",
   "execution_count": 5,
   "metadata": {},
   "outputs": [
    {
     "name": "stdout",
     "output_type": "stream",
     "text": [
      "MAE = 1.49167\n",
      "MSE = 2.72875\n",
      "RMSE = 1.65189\n"
     ]
    }
   ],
   "source": [
    "#載入迴歸常見的評估指標套件\n",
    "from sklearn import metrics\n",
    "import math\n",
    "\n",
    "MAE = metrics.mean_absolute_error(y_test, predictions)\n",
    "\n",
    "MSE = metrics.mean_squared_error(y_test, predictions)\n",
    "\n",
    "RMSE = math.sqrt(metrics.mean_squared_error(y_test, predictions))\n",
    "\n",
    "print(f\"MAE = {MAE:.5f}\")\n",
    "print(f\"MSE = {MSE:.5f}\")\n",
    "print(f\"RMSE = {RMSE:.5f}\")"
   ]
  }
 ],
 "metadata": {
  "kernelspec": {
   "display_name": "Python 3",
   "language": "python",
   "name": "python3"
  },
  "language_info": {
   "codemirror_mode": {
    "name": "ipython",
    "version": 3
   },
   "file_extension": ".py",
   "mimetype": "text/x-python",
   "name": "python",
   "nbconvert_exporter": "python",
   "pygments_lexer": "ipython3",
   "version": "3.8.8"
  }
 },
 "nbformat": 4,
 "nbformat_minor": 4
}
