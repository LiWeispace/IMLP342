{
  "nbformat": 4,
  "nbformat_minor": 0,
  "metadata": {
    "colab": {
      "private_outputs": true,
      "provenance": [],
      "mount_file_id": "12jkKM0SHoDb7rc2Ub9G7qOhkvVaoNMaM",
      "authorship_tag": "ABX9TyN4ZatJryqvZfK7X5/v6Vgn",
      "include_colab_link": true
    },
    "kernelspec": {
      "name": "python3",
      "display_name": "Python 3"
    },
    "language_info": {
      "name": "python"
    }
  },
  "cells": [
    {
      "cell_type": "markdown",
      "metadata": {
        "id": "view-in-github",
        "colab_type": "text"
      },
      "source": [
        "<a href=\"https://colab.research.google.com/github/LiWeispace/IMLP342/blob/main/Object_Detection.ipynb\" target=\"_parent\"><img src=\"https://colab.research.google.com/assets/colab-badge.svg\" alt=\"Open In Colab\"/></a>"
      ]
    },
    {
      "cell_type": "code",
      "execution_count": null,
      "metadata": {
        "id": "2JJcfdRB2I_e"
      },
      "outputs": [],
      "source": [
        "import torch\n",
        "import torchvision.transforms as T\n",
        "from torchvision.models.detection import fasterrcnn_resnet50_fpn\n",
        "from PIL import Image\n",
        "import matplotlib.pyplot as plt"
      ]
    },
    {
      "cell_type": "code",
      "source": [
        "model = fasterrcnn_resnet50_fpn(pretrained=True)\n",
        "model.eval()"
      ],
      "metadata": {
        "id": "KCbpO0dQ2Pbj"
      },
      "execution_count": null,
      "outputs": []
    },
    {
      "cell_type": "code",
      "source": [
        "def transform_image(image_path):\n",
        "    image = Image.open(image_path).convert(\"RGB\")\n",
        "    transform = T.Compose([T.ToTensor()])\n",
        "    image = transform(image)\n",
        "    return image.unsqueeze(0)\n",
        "\n",
        "image_path = '/content/drive/MyDrive/Colab_Deep_learning/AI_DL/people.jpg'\n",
        "image_tensor = transform_image(image_path)"
      ],
      "metadata": {
        "id": "vjmIvm5O2RJa"
      },
      "execution_count": null,
      "outputs": []
    },
    {
      "cell_type": "code",
      "source": [
        "with torch.no_grad():\n",
        "    prediction = model(image_tensor)"
      ],
      "metadata": {
        "id": "zKwnFOhv2lxB"
      },
      "execution_count": null,
      "outputs": []
    },
    {
      "cell_type": "code",
      "source": [
        "def plot_predictions(image_path, prediction):\n",
        "    image = Image.open(image_path)\n",
        "    plt.imshow(image)\n",
        "\n",
        "    prediction_boxes = prediction[0]['boxes']\n",
        "    for box in prediction_boxes:\n",
        "        xmin, ymin, xmax, ymax = box\n",
        "        rect = plt.Rectangle((xmin, ymin), xmax - xmin, ymax - ymin, fill=False, color='red')\n",
        "        plt.gca().add_patch(rect)\n",
        "    plt.show()\n",
        "\n",
        "plot_predictions(image_path, prediction)"
      ],
      "metadata": {
        "id": "Unw9gWzY2nWi"
      },
      "execution_count": null,
      "outputs": []
    },
    {
      "cell_type": "code",
      "source": [
        "scores = prediction[0]['scores']\n",
        "threshold = 0.7\n",
        "selected_boxes = prediction[0]['boxes'][scores > threshold]\n",
        "def plot_predictions_score(image_path, selected_boxes):\n",
        "    image = Image.open(image_path)\n",
        "    plt.imshow(image)\n",
        "\n",
        "    for box in selected_boxes:\n",
        "        xmin, ymin, xmax, ymax = box\n",
        "        rect = plt.Rectangle((xmin, ymin), xmax - xmin, ymax - ymin, fill=False, color='red')\n",
        "        plt.gca().add_patch(rect)\n",
        "    plt.show()\n",
        "\n",
        "plot_predictions_score(image_path, selected_boxes)"
      ],
      "metadata": {
        "id": "qg1DYHqN2svX"
      },
      "execution_count": null,
      "outputs": []
    }
  ]
}